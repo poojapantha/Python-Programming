{
 "cells": [
  {
   "cell_type": "markdown",
   "metadata": {},
   "source": [
    "Hello! I am pooja Pantha. The process of mastering such basics of the programming language as Python has been inspiring for me. With such calls as print (“Hello, World!” ), I was immediately able to determine how Python has me interact with the computer and how it responds to my commands. When learning about other data types that are as simple as strings and integers I started to work with text and numbers making the programs feel more flexible. Next, I learned conditional statements (if, elif, else) for my code to decide what to do based on certain conditions, and that added a new level of interactivity to whatever I was creating. Loops(for,while ) taught me how to push things further to the extent of automating program repetitions and dealing with the larger arrays. In record, I’ve learn the basics which built up my foundation and confidence as I go on the advanced level in programming."
   ]
  },
  {
   "cell_type": "code",
   "execution_count": 14,
   "metadata": {},
   "outputs": [
    {
     "name": "stdout",
     "output_type": "stream",
     "text": [
      "Hello World\n",
      "10\n",
      "3125\n"
     ]
    }
   ],
   "source": [
    "Numbers:\n",
    "\n",
    "Hello = \"Hello World\"\n",
    "print(Hello)\n",
    "a = 5\n",
    "b = 5\n",
    "print (a+b)\n",
    "print (a**b)\n"
   ]
  },
  {
   "cell_type": "markdown",
   "metadata": {},
   "source": [
    "String:"
   ]
  },
  {
   "cell_type": "code",
   "execution_count": 35,
   "metadata": {},
   "outputs": [
    {
     "name": "stdout",
     "output_type": "stream",
     "text": [
      "12\n",
      "Pooja   Pantha\n",
      "Pooja \n",
      "Pantha\n",
      "POOJA PANTHA\n"
     ]
    }
   ],
   "source": [
    "Name = 'Pooja Pantha'\n",
    "total_no_of_chars = len(Name)\n",
    "print(total_no_of_chars)\n",
    "First_Name=Name[0:6]\n",
    "Last_Name=Name[6:]\n",
    "print(First_Name,\"\",Last_Name)\n",
    "First_char=Name[0:6]\n",
    "print(First_char)\n",
    "Last_char=Name[6:]\n",
    "print(Last_char)\n",
    "print(Name.upper())\n",
    "\n",
    "\n"
   ]
  },
  {
   "cell_type": "markdown",
   "metadata": {},
   "source": [
    "Conditions"
   ]
  },
  {
   "cell_type": "code",
   "execution_count": 19,
   "metadata": {},
   "outputs": [
    {
     "name": "stdout",
     "output_type": "stream",
     "text": [
      "I have to wake up at 5AM\n",
      "I have to go to office\n",
      "Its wednesday\n",
      "Its DSA\n"
     ]
    }
   ],
   "source": [
    "day = 4\n",
    "if day == 4:\n",
    "  print(\"I have to wake up at 5AM\")\n",
    "  print(\"I have to go to office\")\n",
    "  print(\"Its wednesday\")\n",
    "elif day == 5:\n",
    "  print(\"Its thursday\")\n",
    "else:\n",
    "  print(\"Its weekend\")\n",
    "\n",
    "time = int(input(\"Enter time\"))\n",
    "# 10=> 'Math'\n",
    "# 12=> 'DSA\"\n",
    "# 13=> 'English'\n",
    "if time>=10 and time<12:\n",
    "  print(\"Its Math\")\n",
    "elif time>=12 and time<13:\n",
    "  print(\"Its DSA\") \n",
    "elif time>13:\n",
    "  print(\"Its English\")\n",
    "else:\n",
    "  print(\"Its break\")\n"
   ]
  },
  {
   "cell_type": "markdown",
   "metadata": {},
   "source": [
    "Loop"
   ]
  },
  {
   "cell_type": "code",
   "execution_count": 14,
   "metadata": {},
   "outputs": [
    {
     "name": "stdout",
     "output_type": "stream",
     "text": [
      "Hello1\n",
      "Hello2\n",
      "Hello3\n",
      "Hello4\n",
      "Hello5\n",
      "Hello6\n",
      "Hello7\n",
      "Hello8\n",
      "Hello9\n"
     ]
    }
   ],
   "source": [
    "from time import sleep\n",
    "counter=1\n",
    "while counter<= 9:\n",
    "  print(f\"Hello{counter}\")\n",
    "  counter +=1\n",
    "  sleep(1)\n",
    " "
   ]
  },
  {
   "cell_type": "markdown",
   "metadata": {},
   "source": [
    "#Find the sum of first n=100 natural numbers using while loop"
   ]
  },
  {
   "cell_type": "code",
   "execution_count": 12,
   "metadata": {},
   "outputs": [
    {
     "name": "stdout",
     "output_type": "stream",
     "text": [
      "5050\n"
     ]
    }
   ],
   "source": [
    "i = 1\n",
    "n = 100\n",
    "sum = 0\n",
    "while i<=n:\n",
    "  sum +=i\n",
    "  i+=1\n",
    "print(sum)"
   ]
  },
  {
   "cell_type": "markdown",
   "metadata": {},
   "source": [
    "#Sum of first even numbers upto 100."
   ]
  },
  {
   "cell_type": "code",
   "execution_count": 13,
   "metadata": {},
   "outputs": [
    {
     "name": "stdout",
     "output_type": "stream",
     "text": [
      "2550\n"
     ]
    }
   ],
   "source": [
    "i = 1\n",
    "n = 100\n",
    "sum_of_even_numbers = 0\n",
    "while i<=n:\n",
    "  if i%2==0:\n",
    "    sum_of_even_numbers+=i\n",
    "  i+=1\n",
    "print(sum_of_even_numbers)"
   ]
  },
  {
   "cell_type": "markdown",
   "metadata": {},
   "source": [
    "Python List \n",
    "List is ordered collection of items"
   ]
  },
  {
   "cell_type": "code",
   "execution_count": 1,
   "metadata": {},
   "outputs": [
    {
     "name": "stdout",
     "output_type": "stream",
     "text": [
      "1\n",
      "6\n",
      "5\n"
     ]
    }
   ],
   "source": [
    "numbers = [1,2,3,4,4,5]\n",
    "students = ['Ram','Hari']\n",
    "\n",
    "# access elements from list\n",
    "first_numbers = numbers[0]\n",
    "print(first_numbers)\n",
    "# count total numbers of items\n",
    "total_items = len(numbers)\n",
    "print(total_items)\n",
    "# last elements\n",
    "last_elements = numbers[total_items-1]\n",
    "print(last_elements)"
   ]
  },
  {
   "cell_type": "markdown",
   "metadata": {},
   "source": [
    "# list methods\n",
    "- append (apppends new items t the end)\n",
    "- pop (remove last element)\n",
    "- count (return total number of item)\n",
    "- insert (insert item)\n",
    "- extend (merge)\n",
    "- copy\n",
    "- clear (delete items)"
   ]
  },
  {
   "cell_type": "code",
   "execution_count": 3,
   "metadata": {},
   "outputs": [
    {
     "name": "stdout",
     "output_type": "stream",
     "text": [
      "[1, 4, 3, 5, 6, 7]\n",
      "[1, 4, 3, 5, 6, 7, 8]\n",
      "[1, 4, 3, 5, 6, 7]\n",
      "[1, 4, 3, 6, 7]\n",
      "[1, 4, 1, 3, 6, 7]\n",
      "0\n",
      "[1, 2, 3, 4, 5, 6]\n",
      "[]\n"
     ]
    }
   ],
   "source": [
    "numbers = [1,4,3,5,6,7]\n",
    "print(numbers)\n",
    "# append items\n",
    "numbers. append(8)\n",
    "print(numbers)\n",
    "# remove last item\n",
    "numbers. pop()\n",
    "print(numbers)\n",
    "# remove\n",
    "numbers. remove(5)\n",
    "print(numbers)\n",
    "# insert\n",
    "numbers. insert(2,1)\n",
    "print(numbers)\n",
    "# count\n",
    "print(numbers. count(2))\n",
    "# extend\n",
    "number1 = [1,2,3]\n",
    "number2 = [4,5,6]\n",
    "number1.extend(number2)\n",
    "print(number1)\n",
    "# clear\n",
    "number1. clear()\n",
    "print(number1)\n"
   ]
  },
  {
   "cell_type": "markdown",
   "metadata": {},
   "source": [
    "Loop through list"
   ]
  },
  {
   "cell_type": "code",
   "execution_count": 4,
   "metadata": {},
   "outputs": [
    {
     "name": "stdout",
     "output_type": "stream",
     "text": [
      "27\n"
     ]
    }
   ],
   "source": [
    "# find the sum of all items of given list\n",
    "numbers = [1,2,3,4,5,6,6]\n",
    "total_items = len(numbers)\n",
    "index = 0\n",
    "sum = 0\n",
    "while index<total_items:\n",
    "  sum += numbers[index]\n",
    "  index+=1\n",
    "print(sum)"
   ]
  },
  {
   "cell_type": "markdown",
   "metadata": {},
   "source": [
    "# Find the max value from the given list\n",
    "numbers = [-10,3,9,-50,100,1009]"
   ]
  },
  {
   "cell_type": "code",
   "execution_count": 8,
   "metadata": {},
   "outputs": [
    {
     "name": "stdout",
     "output_type": "stream",
     "text": [
      "1009\n"
     ]
    }
   ],
   "source": [
    "numbers = [-10,3,9,-50,100,1009]\n",
    "index = 0\n",
    "total_items = len(numbers)\n",
    "max_value = 0\n",
    "while index<total_items:\n",
    "  items = numbers[index]\n",
    "  if items>max_value:\n",
    "    max_value = items\n",
    "  index+=1\n",
    "print(max_value)"
   ]
  },
  {
   "cell_type": "markdown",
   "metadata": {},
   "source": [
    "Join all list items into single string"
   ]
  },
  {
   "cell_type": "code",
   "execution_count": 11,
   "metadata": {},
   "outputs": [
    {
     "name": "stdout",
     "output_type": "stream",
     "text": [
      "Ram_Hari_Gopal\n"
     ]
    }
   ],
   "source": [
    "students = ['Ram','Hari','Gopal']\n",
    "all_students = '_'.join(students)\n",
    "print(all_students)\n"
   ]
  },
  {
   "cell_type": "code",
   "execution_count": null,
   "metadata": {},
   "outputs": [],
   "source": []
  }
 ],
 "metadata": {
  "kernelspec": {
   "display_name": "Python 3",
   "language": "python",
   "name": "python3"
  },
  "language_info": {
   "codemirror_mode": {
    "name": "ipython",
    "version": 3
   },
   "file_extension": ".py",
   "mimetype": "text/x-python",
   "name": "python",
   "nbconvert_exporter": "python",
   "pygments_lexer": "ipython3",
   "version": "3.12.4"
  }
 },
 "nbformat": 4,
 "nbformat_minor": 2
}
